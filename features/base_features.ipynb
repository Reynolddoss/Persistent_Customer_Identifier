{
 "cells": [
  {
   "cell_type": "code",
   "execution_count": 1,
   "metadata": {
    "collapsed": true
   },
   "outputs": [],
   "source": [
    "import string\n",
    "import os"
   ]
  },
  {
   "cell_type": "code",
   "execution_count": 2,
   "metadata": {
    "collapsed": true
   },
   "outputs": [],
   "source": [
    "# set path of the CSV files \n",
    "offers_file       = \"/home/reynold/github/Persistent_Customer_Identifier/Dataset/offers.csv\"\n",
    "transactions_file = \"/home/reynold/github/Persistent_Customer_Identifier/Dataset/transactions.csv\""
   ]
  },
  {
   "cell_type": "code",
   "execution_count": 3,
   "metadata": {
    "collapsed": true
   },
   "outputs": [],
   "source": [
    "# flag the test variable \n",
    "testset = False"
   ]
  },
  {
   "cell_type": "code",
   "execution_count": 4,
   "metadata": {
    "collapsed": true
   },
   "outputs": [],
   "source": [
    "if testset:\n",
    "    history_file = \"/home/reynold/github/Persistent_Customer_Identifier/Dataset/testHistory.csv\"\n",
    "else:\n",
    "    history_file = \"/home/reynold/github/Persistent_Customer_Identifier/Dataset/trainHistory.csv\""
   ]
  },
  {
   "cell_type": "code",
   "execution_count": 7,
   "metadata": {},
   "outputs": [],
   "source": [
    "# reduced file \n",
    "reduced_file = \"/home/reynold/github/Persistent_Customer_Identifier/Dataset/reduced.csv\"\n",
    "if testset:\n",
    "    folder = \"/home/reynold/github/Persistent_Customer_Identifier/Dataset/test/\"\n",
    "else:\n",
    "    folder = \"/home/reynold/github/Persistent_Customer_Identifier/Dataset/train/\"\n",
    "\n"
   ]
  },
  {
   "cell_type": "code",
   "execution_count": 9,
   "metadata": {},
   "outputs": [],
   "source": [
    "# output feature file \n",
    "output_file = os.path.join(folder,\"base_feature.csv\")"
   ]
  },
  {
   "cell_type": "code",
   "execution_count": null,
   "metadata": {
    "collapsed": true
   },
   "outputs": [],
   "source": []
  }
 ],
 "metadata": {
  "kernelspec": {
   "display_name": "Python 3",
   "language": "python",
   "name": "python3"
  },
  "language_info": {
   "codemirror_mode": {
    "name": "ipython",
    "version": 3
   },
   "file_extension": ".py",
   "mimetype": "text/x-python",
   "name": "python",
   "nbconvert_exporter": "python",
   "pygments_lexer": "ipython3",
   "version": "3.6.3"
  }
 },
 "nbformat": 4,
 "nbformat_minor": 2
}
