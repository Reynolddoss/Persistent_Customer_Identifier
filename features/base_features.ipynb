{
 "cells": [
  {
   "cell_type": "code",
   "execution_count": 1,
   "metadata": {
    "collapsed": true
   },
   "outputs": [],
   "source": [
    "import string\n",
    "import os"
   ]
  },
  {
   "cell_type": "code",
   "execution_count": 2,
   "metadata": {
    "collapsed": true
   },
   "outputs": [],
   "source": [
    "# set path of the CSV files \n",
    "offers_file       = \"/home/reynold/github/Persistent_Customer_Identifier/Dataset/offers.csv\"\n",
    "transactions_file = \"/home/reynold/github/Persistent_Customer_Identifier/Dataset/transactions.csv\""
   ]
  },
  {
   "cell_type": "code",
   "execution_count": 3,
   "metadata": {
    "collapsed": true
   },
   "outputs": [],
   "source": [
    "# flag the test variable \n",
    "testset = False"
   ]
  },
  {
   "cell_type": "code",
   "execution_count": 4,
   "metadata": {
    "collapsed": true
   },
   "outputs": [],
   "source": [
    "if testset:\n",
    "    history_file = \"/home/reynold/github/Persistent_Customer_Identifier/Dataset/testHistory.csv\"\n",
    "else:\n",
    "    history_file = \"/home/reynold/github/Persistent_Customer_Identifier/Dataset/trainHistory.csv\""
   ]
  },
  {
   "cell_type": "code",
   "execution_count": 5,
   "metadata": {
    "collapsed": true
   },
   "outputs": [],
   "source": [
    "# reduced file \n",
    "reduced_file = \"/home/reynold/github/Persistent_Customer_Identifier/Dataset/reduced.csv\"\n",
    "if testset:\n",
    "    folder = \"/home/reynold/github/Persistent_Customer_Identifier/Dataset/test/\"\n",
    "else:\n",
    "    folder = \"/home/reynold/github/Persistent_Customer_Identifier/Dataset/train/\"\n",
    "\n"
   ]
  },
  {
   "cell_type": "code",
   "execution_count": 6,
   "metadata": {
    "collapsed": true
   },
   "outputs": [],
   "source": [
    "# output feature file \n",
    "out_file = os.path.join(folder,\"base_feature.csv\")"
   ]
  },
  {
   "cell_type": "code",
   "execution_count": 7,
   "metadata": {
    "collapsed": true
   },
   "outputs": [],
   "source": [
    "def reduce_data(offers_file,transactions_file,reduced_file):\n",
    "    offers_cat = {}\n",
    "    offers_co = {}\n",
    "    for e , line in enumerate(open(offers_file)):\n",
    "        offers_cat[line.split(\",\")[1]]=1\n",
    "        offers_co[line.split(\",\")[3]] =1\n",
    "    #getting data of those matching those present in Offers_cat and co\n",
    "    with open(reduced_file,\"wb\") as outfile:\n",
    "        for e, line in enumerate(open(transactions_file)):\n",
    "            if e==0:\n",
    "                outfile.write(line)\n",
    "            else:\n",
    "                if line.split(\",\")[3] in offers_cat or line.split(\",\")[4] in offers_co:\n",
    "                    outfile.write(line)   \n",
    "                "
   ]
  },
  {
   "cell_type": "code",
   "execution_count": 8,
   "metadata": {
    "collapsed": true
   },
   "outputs": [],
   "source": [
    "def generate_features(transactions_file,out_file):\n",
    "    offers={}\n",
    "    offers_category={}\n",
    "    offers_company={}\n",
    "    for e, line in enumerate(open(offers_file)):\n",
    "        row = line.strip().split(\",\")\n",
    "        offers[row[0]] = row\n",
    "        offers_category[row[1]] = 1\n",
    "        offers_company[row[3]] = 1\n",
    "    #dict from history\n",
    "    ids = {}\n",
    "    for e,line in enumerate(open(history_file)):\n",
    "        if e>0:\n",
    "            row = line.strip().split(\",\")\n",
    "            ids[row[0]]=row\n",
    "    \n",
    "    seen_ids = set([])\n",
    "    \n",
    "    outfile = open(out_file,\"wb\")\n",
    "    outfile.write(\"Repeat Trips id\" + string.join(feature_set)+\"market chain\\n\")\n",
    "    \n",
    "    #loop through reduced file \n",
    "    last_id = 0\n",
    "    "
   ]
  },
  {
   "cell_type": "code",
   "execution_count": null,
   "metadata": {
    "collapsed": true
   },
   "outputs": [],
   "source": []
  }
 ],
 "metadata": {
  "kernelspec": {
   "display_name": "Python 3",
   "language": "python",
   "name": "python3"
  },
  "language_info": {
   "codemirror_mode": {
    "name": "ipython",
    "version": 3
   },
   "file_extension": ".py",
   "mimetype": "text/x-python",
   "name": "python",
   "nbconvert_exporter": "python",
   "pygments_lexer": "ipython3",
   "version": "3.6.3"
  }
 },
 "nbformat": 4,
 "nbformat_minor": 2
}
